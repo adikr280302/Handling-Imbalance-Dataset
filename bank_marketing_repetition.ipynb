{
 "cells": [
  {
   "cell_type": "code",
   "execution_count": 1,
   "id": "ecbf072c",
   "metadata": {},
   "outputs": [],
   "source": [
    "from sklearn.metrics import classification_report\n",
    "import numpy as np\n",
    "import pandas as pd\n",
    "import matplotlib.pyplot as plt\n",
    "import seaborn as sns\n",
    "%matplotlib inline\n",
    "import warnings\n",
    "warnings.filterwarnings('ignore')"
   ]
  },
  {
   "cell_type": "code",
   "execution_count": 2,
   "id": "e0ee9fe1",
   "metadata": {},
   "outputs": [],
   "source": [
    "bank = pd.read_csv('bank-additional-full.csv', sep = ';')\n",
    "#Converting dependent variable categorical to dummy\n",
    "y = pd.get_dummies(bank['y'], columns = ['y'], drop_first = True)\n",
    "yA = y\n",
    "#y = y.drop('yes', axis = 1)"
   ]
  },
  {
   "cell_type": "code",
   "execution_count": 3,
   "id": "6f835bd1",
   "metadata": {},
   "outputs": [
    {
     "data": {
      "text/html": [
       "<div>\n",
       "<style scoped>\n",
       "    .dataframe tbody tr th:only-of-type {\n",
       "        vertical-align: middle;\n",
       "    }\n",
       "\n",
       "    .dataframe tbody tr th {\n",
       "        vertical-align: top;\n",
       "    }\n",
       "\n",
       "    .dataframe thead th {\n",
       "        text-align: right;\n",
       "    }\n",
       "</style>\n",
       "<table border=\"1\" class=\"dataframe\">\n",
       "  <thead>\n",
       "    <tr style=\"text-align: right;\">\n",
       "      <th></th>\n",
       "      <th>age</th>\n",
       "      <th>job</th>\n",
       "      <th>marital</th>\n",
       "      <th>education</th>\n",
       "      <th>default</th>\n",
       "      <th>housing</th>\n",
       "      <th>loan</th>\n",
       "    </tr>\n",
       "  </thead>\n",
       "  <tbody>\n",
       "    <tr>\n",
       "      <th>0</th>\n",
       "      <td>56</td>\n",
       "      <td>housemaid</td>\n",
       "      <td>married</td>\n",
       "      <td>basic.4y</td>\n",
       "      <td>no</td>\n",
       "      <td>no</td>\n",
       "      <td>no</td>\n",
       "    </tr>\n",
       "    <tr>\n",
       "      <th>1</th>\n",
       "      <td>57</td>\n",
       "      <td>services</td>\n",
       "      <td>married</td>\n",
       "      <td>high.school</td>\n",
       "      <td>unknown</td>\n",
       "      <td>no</td>\n",
       "      <td>no</td>\n",
       "    </tr>\n",
       "    <tr>\n",
       "      <th>2</th>\n",
       "      <td>37</td>\n",
       "      <td>services</td>\n",
       "      <td>married</td>\n",
       "      <td>high.school</td>\n",
       "      <td>no</td>\n",
       "      <td>yes</td>\n",
       "      <td>no</td>\n",
       "    </tr>\n",
       "    <tr>\n",
       "      <th>3</th>\n",
       "      <td>40</td>\n",
       "      <td>admin.</td>\n",
       "      <td>married</td>\n",
       "      <td>basic.6y</td>\n",
       "      <td>no</td>\n",
       "      <td>no</td>\n",
       "      <td>no</td>\n",
       "    </tr>\n",
       "    <tr>\n",
       "      <th>4</th>\n",
       "      <td>56</td>\n",
       "      <td>services</td>\n",
       "      <td>married</td>\n",
       "      <td>high.school</td>\n",
       "      <td>no</td>\n",
       "      <td>no</td>\n",
       "      <td>yes</td>\n",
       "    </tr>\n",
       "  </tbody>\n",
       "</table>\n",
       "</div>"
      ],
      "text/plain": [
       "   age        job  marital    education  default housing loan\n",
       "0   56  housemaid  married     basic.4y       no      no   no\n",
       "1   57   services  married  high.school  unknown      no   no\n",
       "2   37   services  married  high.school       no     yes   no\n",
       "3   40     admin.  married     basic.6y       no      no   no\n",
       "4   56   services  married  high.school       no      no  yes"
      ]
     },
     "execution_count": 3,
     "metadata": {},
     "output_type": "execute_result"
    }
   ],
   "source": [
    "bank_client = bank.iloc[: , 0:7]\n",
    "bank_client.head()"
   ]
  },
  {
   "cell_type": "code",
   "execution_count": 4,
   "id": "5687b912",
   "metadata": {},
   "outputs": [],
   "source": [
    "# Label encoder order is alphabetical\n",
    "from sklearn.preprocessing import LabelEncoder\n",
    "labelencoder_X = LabelEncoder()\n",
    "bank_client['job']      = labelencoder_X.fit_transform(bank_client['job']) \n",
    "bank_client['marital']  = labelencoder_X.fit_transform(bank_client['marital']) \n",
    "bank_client['education']= labelencoder_X.fit_transform(bank_client['education']) \n",
    "bank_client['default']  = labelencoder_X.fit_transform(bank_client['default']) \n",
    "bank_client['housing']  = labelencoder_X.fit_transform(bank_client['housing']) \n",
    "bank_client['loan']     = labelencoder_X.fit_transform(bank_client['loan']) "
   ]
  },
  {
   "cell_type": "code",
   "execution_count": 5,
   "id": "323fb5c8",
   "metadata": {},
   "outputs": [],
   "source": [
    "# Label encoder order is alphabetical\n",
    "from sklearn.preprocessing import LabelEncoder\n",
    "labelencoder_X = LabelEncoder()\n",
    "bank_client['job']      = labelencoder_X.fit_transform(bank_client['job']) \n",
    "bank_client['marital']  = labelencoder_X.fit_transform(bank_client['marital']) \n",
    "bank_client['education']= labelencoder_X.fit_transform(bank_client['education']) \n",
    "bank_client['default']  = labelencoder_X.fit_transform(bank_client['default']) \n",
    "bank_client['housing']  = labelencoder_X.fit_transform(bank_client['housing']) \n",
    "bank_client['loan']     = labelencoder_X.fit_transform(bank_client['loan']) "
   ]
  },
  {
   "cell_type": "code",
   "execution_count": 6,
   "id": "4fcaf060",
   "metadata": {},
   "outputs": [
    {
     "data": {
      "text/html": [
       "<div>\n",
       "<style scoped>\n",
       "    .dataframe tbody tr th:only-of-type {\n",
       "        vertical-align: middle;\n",
       "    }\n",
       "\n",
       "    .dataframe tbody tr th {\n",
       "        vertical-align: top;\n",
       "    }\n",
       "\n",
       "    .dataframe thead th {\n",
       "        text-align: right;\n",
       "    }\n",
       "</style>\n",
       "<table border=\"1\" class=\"dataframe\">\n",
       "  <thead>\n",
       "    <tr style=\"text-align: right;\">\n",
       "      <th></th>\n",
       "      <th>age</th>\n",
       "      <th>job</th>\n",
       "      <th>marital</th>\n",
       "      <th>education</th>\n",
       "      <th>default</th>\n",
       "      <th>housing</th>\n",
       "      <th>loan</th>\n",
       "    </tr>\n",
       "  </thead>\n",
       "  <tbody>\n",
       "    <tr>\n",
       "      <th>0</th>\n",
       "      <td>56</td>\n",
       "      <td>3</td>\n",
       "      <td>1</td>\n",
       "      <td>0</td>\n",
       "      <td>0</td>\n",
       "      <td>0</td>\n",
       "      <td>0</td>\n",
       "    </tr>\n",
       "    <tr>\n",
       "      <th>1</th>\n",
       "      <td>57</td>\n",
       "      <td>7</td>\n",
       "      <td>1</td>\n",
       "      <td>3</td>\n",
       "      <td>1</td>\n",
       "      <td>0</td>\n",
       "      <td>0</td>\n",
       "    </tr>\n",
       "    <tr>\n",
       "      <th>2</th>\n",
       "      <td>37</td>\n",
       "      <td>7</td>\n",
       "      <td>1</td>\n",
       "      <td>3</td>\n",
       "      <td>0</td>\n",
       "      <td>2</td>\n",
       "      <td>0</td>\n",
       "    </tr>\n",
       "    <tr>\n",
       "      <th>3</th>\n",
       "      <td>40</td>\n",
       "      <td>0</td>\n",
       "      <td>1</td>\n",
       "      <td>1</td>\n",
       "      <td>0</td>\n",
       "      <td>0</td>\n",
       "      <td>0</td>\n",
       "    </tr>\n",
       "    <tr>\n",
       "      <th>4</th>\n",
       "      <td>56</td>\n",
       "      <td>7</td>\n",
       "      <td>1</td>\n",
       "      <td>3</td>\n",
       "      <td>0</td>\n",
       "      <td>0</td>\n",
       "      <td>2</td>\n",
       "    </tr>\n",
       "  </tbody>\n",
       "</table>\n",
       "</div>"
      ],
      "text/plain": [
       "   age  job  marital  education  default  housing  loan\n",
       "0   56    3        1          0        0        0     0\n",
       "1   57    7        1          3        1        0     0\n",
       "2   37    7        1          3        0        2     0\n",
       "3   40    0        1          1        0        0     0\n",
       "4   56    7        1          3        0        0     2"
      ]
     },
     "execution_count": 6,
     "metadata": {},
     "output_type": "execute_result"
    }
   ],
   "source": [
    "bank_client.head()"
   ]
  },
  {
   "cell_type": "code",
   "execution_count": 7,
   "id": "7e814969",
   "metadata": {},
   "outputs": [
    {
     "data": {
      "text/html": [
       "<div>\n",
       "<style scoped>\n",
       "    .dataframe tbody tr th:only-of-type {\n",
       "        vertical-align: middle;\n",
       "    }\n",
       "\n",
       "    .dataframe tbody tr th {\n",
       "        vertical-align: top;\n",
       "    }\n",
       "\n",
       "    .dataframe thead th {\n",
       "        text-align: right;\n",
       "    }\n",
       "</style>\n",
       "<table border=\"1\" class=\"dataframe\">\n",
       "  <thead>\n",
       "    <tr style=\"text-align: right;\">\n",
       "      <th></th>\n",
       "      <th>contact</th>\n",
       "      <th>month</th>\n",
       "      <th>day_of_week</th>\n",
       "      <th>duration</th>\n",
       "    </tr>\n",
       "  </thead>\n",
       "  <tbody>\n",
       "    <tr>\n",
       "      <th>0</th>\n",
       "      <td>telephone</td>\n",
       "      <td>may</td>\n",
       "      <td>mon</td>\n",
       "      <td>261</td>\n",
       "    </tr>\n",
       "    <tr>\n",
       "      <th>1</th>\n",
       "      <td>telephone</td>\n",
       "      <td>may</td>\n",
       "      <td>mon</td>\n",
       "      <td>149</td>\n",
       "    </tr>\n",
       "    <tr>\n",
       "      <th>2</th>\n",
       "      <td>telephone</td>\n",
       "      <td>may</td>\n",
       "      <td>mon</td>\n",
       "      <td>226</td>\n",
       "    </tr>\n",
       "    <tr>\n",
       "      <th>3</th>\n",
       "      <td>telephone</td>\n",
       "      <td>may</td>\n",
       "      <td>mon</td>\n",
       "      <td>151</td>\n",
       "    </tr>\n",
       "    <tr>\n",
       "      <th>4</th>\n",
       "      <td>telephone</td>\n",
       "      <td>may</td>\n",
       "      <td>mon</td>\n",
       "      <td>307</td>\n",
       "    </tr>\n",
       "  </tbody>\n",
       "</table>\n",
       "</div>"
      ],
      "text/plain": [
       "     contact month day_of_week  duration\n",
       "0  telephone   may         mon       261\n",
       "1  telephone   may         mon       149\n",
       "2  telephone   may         mon       226\n",
       "3  telephone   may         mon       151\n",
       "4  telephone   may         mon       307"
      ]
     },
     "execution_count": 7,
     "metadata": {},
     "output_type": "execute_result"
    }
   ],
   "source": [
    "# Slicing DataFrame to treat separately, make things more easy\n",
    "bank_related = bank.iloc[: , 7:11]\n",
    "bank_related.head()"
   ]
  },
  {
   "cell_type": "code",
   "execution_count": 8,
   "id": "f1a807af",
   "metadata": {},
   "outputs": [],
   "source": [
    "# Label encoder order is alphabetical\n",
    "from sklearn.preprocessing import LabelEncoder\n",
    "labelencoder_X = LabelEncoder()\n",
    "bank_related['contact']     = labelencoder_X.fit_transform(bank_related['contact']) \n",
    "bank_related['month']       = labelencoder_X.fit_transform(bank_related['month']) \n",
    "bank_related['day_of_week'] = labelencoder_X.fit_transform(bank_related['day_of_week']) "
   ]
  },
  {
   "cell_type": "code",
   "execution_count": 9,
   "id": "26a45a45",
   "metadata": {},
   "outputs": [],
   "source": [
    "def duration(data):\n",
    "\n",
    "    data.loc[data['duration'] <= 102, 'duration'] = 1\n",
    "    data.loc[(data['duration'] > 102) & (data['duration'] <= 180)  , 'duration']    = 2\n",
    "    data.loc[(data['duration'] > 180) & (data['duration'] <= 319)  , 'duration']   = 3\n",
    "    data.loc[(data['duration'] > 319) & (data['duration'] <= 644.5), 'duration'] = 4\n",
    "    data.loc[data['duration']  > 644.5, 'duration'] = 5\n",
    "\n",
    "    return data\n",
    "duration(bank_related);"
   ]
  },
  {
   "cell_type": "code",
   "execution_count": 10,
   "id": "6799eafd",
   "metadata": {},
   "outputs": [
    {
     "data": {
      "text/html": [
       "<div>\n",
       "<style scoped>\n",
       "    .dataframe tbody tr th:only-of-type {\n",
       "        vertical-align: middle;\n",
       "    }\n",
       "\n",
       "    .dataframe tbody tr th {\n",
       "        vertical-align: top;\n",
       "    }\n",
       "\n",
       "    .dataframe thead th {\n",
       "        text-align: right;\n",
       "    }\n",
       "</style>\n",
       "<table border=\"1\" class=\"dataframe\">\n",
       "  <thead>\n",
       "    <tr style=\"text-align: right;\">\n",
       "      <th></th>\n",
       "      <th>contact</th>\n",
       "      <th>month</th>\n",
       "      <th>day_of_week</th>\n",
       "      <th>duration</th>\n",
       "    </tr>\n",
       "  </thead>\n",
       "  <tbody>\n",
       "    <tr>\n",
       "      <th>0</th>\n",
       "      <td>1</td>\n",
       "      <td>6</td>\n",
       "      <td>1</td>\n",
       "      <td>3</td>\n",
       "    </tr>\n",
       "    <tr>\n",
       "      <th>1</th>\n",
       "      <td>1</td>\n",
       "      <td>6</td>\n",
       "      <td>1</td>\n",
       "      <td>2</td>\n",
       "    </tr>\n",
       "    <tr>\n",
       "      <th>2</th>\n",
       "      <td>1</td>\n",
       "      <td>6</td>\n",
       "      <td>1</td>\n",
       "      <td>3</td>\n",
       "    </tr>\n",
       "    <tr>\n",
       "      <th>3</th>\n",
       "      <td>1</td>\n",
       "      <td>6</td>\n",
       "      <td>1</td>\n",
       "      <td>2</td>\n",
       "    </tr>\n",
       "    <tr>\n",
       "      <th>4</th>\n",
       "      <td>1</td>\n",
       "      <td>6</td>\n",
       "      <td>1</td>\n",
       "      <td>3</td>\n",
       "    </tr>\n",
       "  </tbody>\n",
       "</table>\n",
       "</div>"
      ],
      "text/plain": [
       "   contact  month  day_of_week  duration\n",
       "0        1      6            1         3\n",
       "1        1      6            1         2\n",
       "2        1      6            1         3\n",
       "3        1      6            1         2\n",
       "4        1      6            1         3"
      ]
     },
     "execution_count": 10,
     "metadata": {},
     "output_type": "execute_result"
    }
   ],
   "source": [
    "bank_related.head()"
   ]
  },
  {
   "cell_type": "code",
   "execution_count": 11,
   "id": "53123b34",
   "metadata": {},
   "outputs": [
    {
     "data": {
      "text/html": [
       "<div>\n",
       "<style scoped>\n",
       "    .dataframe tbody tr th:only-of-type {\n",
       "        vertical-align: middle;\n",
       "    }\n",
       "\n",
       "    .dataframe tbody tr th {\n",
       "        vertical-align: top;\n",
       "    }\n",
       "\n",
       "    .dataframe thead th {\n",
       "        text-align: right;\n",
       "    }\n",
       "</style>\n",
       "<table border=\"1\" class=\"dataframe\">\n",
       "  <thead>\n",
       "    <tr style=\"text-align: right;\">\n",
       "      <th></th>\n",
       "      <th>emp.var.rate</th>\n",
       "      <th>cons.price.idx</th>\n",
       "      <th>cons.conf.idx</th>\n",
       "      <th>euribor3m</th>\n",
       "      <th>nr.employed</th>\n",
       "    </tr>\n",
       "  </thead>\n",
       "  <tbody>\n",
       "    <tr>\n",
       "      <th>0</th>\n",
       "      <td>1.1</td>\n",
       "      <td>93.994</td>\n",
       "      <td>-36.4</td>\n",
       "      <td>4.857</td>\n",
       "      <td>5191.0</td>\n",
       "    </tr>\n",
       "    <tr>\n",
       "      <th>1</th>\n",
       "      <td>1.1</td>\n",
       "      <td>93.994</td>\n",
       "      <td>-36.4</td>\n",
       "      <td>4.857</td>\n",
       "      <td>5191.0</td>\n",
       "    </tr>\n",
       "    <tr>\n",
       "      <th>2</th>\n",
       "      <td>1.1</td>\n",
       "      <td>93.994</td>\n",
       "      <td>-36.4</td>\n",
       "      <td>4.857</td>\n",
       "      <td>5191.0</td>\n",
       "    </tr>\n",
       "    <tr>\n",
       "      <th>3</th>\n",
       "      <td>1.1</td>\n",
       "      <td>93.994</td>\n",
       "      <td>-36.4</td>\n",
       "      <td>4.857</td>\n",
       "      <td>5191.0</td>\n",
       "    </tr>\n",
       "    <tr>\n",
       "      <th>4</th>\n",
       "      <td>1.1</td>\n",
       "      <td>93.994</td>\n",
       "      <td>-36.4</td>\n",
       "      <td>4.857</td>\n",
       "      <td>5191.0</td>\n",
       "    </tr>\n",
       "  </tbody>\n",
       "</table>\n",
       "</div>"
      ],
      "text/plain": [
       "   emp.var.rate  cons.price.idx  cons.conf.idx  euribor3m  nr.employed\n",
       "0           1.1          93.994          -36.4      4.857       5191.0\n",
       "1           1.1          93.994          -36.4      4.857       5191.0\n",
       "2           1.1          93.994          -36.4      4.857       5191.0\n",
       "3           1.1          93.994          -36.4      4.857       5191.0\n",
       "4           1.1          93.994          -36.4      4.857       5191.0"
      ]
     },
     "execution_count": 11,
     "metadata": {},
     "output_type": "execute_result"
    }
   ],
   "source": [
    "bank_se = bank.loc[: , ['emp.var.rate', 'cons.price.idx', 'cons.conf.idx', 'euribor3m', 'nr.employed']]\n",
    "bank_se.head()"
   ]
  },
  {
   "cell_type": "code",
   "execution_count": 12,
   "id": "c18b90e8",
   "metadata": {},
   "outputs": [
    {
     "data": {
      "text/html": [
       "<div>\n",
       "<style scoped>\n",
       "    .dataframe tbody tr th:only-of-type {\n",
       "        vertical-align: middle;\n",
       "    }\n",
       "\n",
       "    .dataframe tbody tr th {\n",
       "        vertical-align: top;\n",
       "    }\n",
       "\n",
       "    .dataframe thead th {\n",
       "        text-align: right;\n",
       "    }\n",
       "</style>\n",
       "<table border=\"1\" class=\"dataframe\">\n",
       "  <thead>\n",
       "    <tr style=\"text-align: right;\">\n",
       "      <th></th>\n",
       "      <th>campaign</th>\n",
       "      <th>pdays</th>\n",
       "      <th>previous</th>\n",
       "      <th>poutcome</th>\n",
       "    </tr>\n",
       "  </thead>\n",
       "  <tbody>\n",
       "    <tr>\n",
       "      <th>0</th>\n",
       "      <td>1</td>\n",
       "      <td>999</td>\n",
       "      <td>0</td>\n",
       "      <td>nonexistent</td>\n",
       "    </tr>\n",
       "    <tr>\n",
       "      <th>1</th>\n",
       "      <td>1</td>\n",
       "      <td>999</td>\n",
       "      <td>0</td>\n",
       "      <td>nonexistent</td>\n",
       "    </tr>\n",
       "    <tr>\n",
       "      <th>2</th>\n",
       "      <td>1</td>\n",
       "      <td>999</td>\n",
       "      <td>0</td>\n",
       "      <td>nonexistent</td>\n",
       "    </tr>\n",
       "    <tr>\n",
       "      <th>3</th>\n",
       "      <td>1</td>\n",
       "      <td>999</td>\n",
       "      <td>0</td>\n",
       "      <td>nonexistent</td>\n",
       "    </tr>\n",
       "    <tr>\n",
       "      <th>4</th>\n",
       "      <td>1</td>\n",
       "      <td>999</td>\n",
       "      <td>0</td>\n",
       "      <td>nonexistent</td>\n",
       "    </tr>\n",
       "  </tbody>\n",
       "</table>\n",
       "</div>"
      ],
      "text/plain": [
       "   campaign  pdays  previous     poutcome\n",
       "0         1    999         0  nonexistent\n",
       "1         1    999         0  nonexistent\n",
       "2         1    999         0  nonexistent\n",
       "3         1    999         0  nonexistent\n",
       "4         1    999         0  nonexistent"
      ]
     },
     "execution_count": 12,
     "metadata": {},
     "output_type": "execute_result"
    }
   ],
   "source": [
    "bank_se = bank.loc[: , ['emp.var.rate', 'cons.price.idx', 'cons.conf.idx', 'euribor3m', 'nr.employed']]\n",
    "bank_se.head()\n",
    "bank_o = bank.loc[: , ['campaign', 'pdays','previous', 'poutcome']]\n",
    "bank_o.head()"
   ]
  },
  {
   "cell_type": "code",
   "execution_count": 13,
   "id": "93bf2795",
   "metadata": {},
   "outputs": [],
   "source": [
    "bank_o['poutcome'].replace(['nonexistent', 'failure', 'success'], [1,2,3], inplace  = True)"
   ]
  },
  {
   "cell_type": "code",
   "execution_count": 14,
   "id": "8ed0f89b",
   "metadata": {},
   "outputs": [],
   "source": [
    "from sklearn.model_selection import train_test_split\n",
    "from sklearn.model_selection import KFold\n",
    "from sklearn.model_selection import cross_val_score\n",
    "from sklearn.metrics import confusion_matrix, accuracy_score\n",
    "from sklearn.utils import resample"
   ]
  },
  {
   "cell_type": "code",
   "execution_count": 15,
   "id": "4dfd0303",
   "metadata": {},
   "outputs": [
    {
     "data": {
      "text/plain": [
       "(41188, 20)"
      ]
     },
     "execution_count": 15,
     "metadata": {},
     "output_type": "execute_result"
    }
   ],
   "source": [
    "bank_final= pd.concat([bank_client, bank_related, bank_se, bank_o], axis = 1)\n",
    "bank_final = bank_final[['age', 'job', 'marital', 'education', 'default', 'housing', 'loan',\n",
    "                     'contact', 'month', 'day_of_week', 'duration', 'emp.var.rate', 'cons.price.idx', \n",
    "                     'cons.conf.idx', 'euribor3m', 'nr.employed', 'campaign', 'pdays', 'previous', 'poutcome']]\n",
    "bank_final.shape"
   ]
  },
  {
   "cell_type": "code",
   "execution_count": 16,
   "id": "39fd2d53",
   "metadata": {},
   "outputs": [],
   "source": [
    "#IMBALANCED DATASET FIX\n",
    "bank_final1 = pd.concat([bank_final, y], axis = 1)\n",
    "df_majority = bank_final1[bank_final1['yes'] == 0]\n",
    "df_minority = bank_final1[bank_final1['yes'] == 1]"
   ]
  },
  {
   "cell_type": "code",
   "execution_count": 17,
   "id": "cbb87089",
   "metadata": {},
   "outputs": [],
   "source": [
    "#IMBALANCED DATASET FIX\n",
    "df_minority_upsampled = resample(df_minority, \n",
    "                                 replace=True,    \n",
    "                                 n_samples= int(4640*2),    \n",
    "                                 random_state=123) "
   ]
  },
  {
   "cell_type": "code",
   "execution_count": 18,
   "id": "0d3fa724",
   "metadata": {},
   "outputs": [],
   "source": [
    "#IMBALANCED DATASET FIX\n",
    "df_upsampled = pd.concat([df_majority, df_minority_upsampled])\n",
    "y_new = df_upsampled['yes']"
   ]
  },
  {
   "cell_type": "code",
   "execution_count": 19,
   "id": "8d43a336",
   "metadata": {},
   "outputs": [],
   "source": [
    "X_train, X_test, y_train, y_test = train_test_split(df_upsampled.drop('yes', axis = 1), y_new, test_size = 0.1942313295, random_state = 101)\n",
    "k_fold = KFold(n_splits=10, shuffle=True, random_state=0)"
   ]
  },
  {
   "cell_type": "code",
   "execution_count": 20,
   "id": "09b88f01",
   "metadata": {},
   "outputs": [],
   "source": [
    "from sklearn.preprocessing import StandardScaler\n",
    "sc_X = StandardScaler()\n",
    "X_train = sc_X.fit_transform(X_train)\n",
    "X_test = sc_X.transform(X_test)"
   ]
  },
  {
   "cell_type": "code",
   "execution_count": 21,
   "id": "83dd15c4",
   "metadata": {},
   "outputs": [],
   "source": [
    "from sklearn.ensemble import RandomForestClassifier\n",
    "rfc = RandomForestClassifier(n_estimators = 200, n_jobs=2, random_state = 12)#criterion = entopy,gini\n",
    "rfc.fit(X_train, y_train)\n",
    "rfcpred = rfc.predict(X_test)\n",
    "RFCCV = (cross_val_score(rfc, X_train, y_train, cv=k_fold, n_jobs=2, scoring = 'accuracy').mean())"
   ]
  },
  {
   "cell_type": "code",
   "execution_count": 22,
   "id": "e4ee9773",
   "metadata": {},
   "outputs": [
    {
     "data": {
      "text/html": [
       "<div>\n",
       "<style scoped>\n",
       "    .dataframe tbody tr th:only-of-type {\n",
       "        vertical-align: middle;\n",
       "    }\n",
       "\n",
       "    .dataframe tbody tr th {\n",
       "        vertical-align: top;\n",
       "    }\n",
       "\n",
       "    .dataframe thead th {\n",
       "        text-align: right;\n",
       "    }\n",
       "</style>\n",
       "<table border=\"1\" class=\"dataframe\">\n",
       "  <thead>\n",
       "    <tr style=\"text-align: right;\">\n",
       "      <th></th>\n",
       "      <th>Models</th>\n",
       "      <th>Score</th>\n",
       "    </tr>\n",
       "  </thead>\n",
       "  <tbody>\n",
       "    <tr>\n",
       "      <th>0</th>\n",
       "      <td>Random Forest Classifier</td>\n",
       "      <td>0.941396</td>\n",
       "    </tr>\n",
       "  </tbody>\n",
       "</table>\n",
       "</div>"
      ],
      "text/plain": [
       "                     Models     Score\n",
       "0  Random Forest Classifier  0.941396"
      ]
     },
     "execution_count": 22,
     "metadata": {},
     "output_type": "execute_result"
    }
   ],
   "source": [
    "models = pd.DataFrame({\n",
    "                'Models': ['Random Forest Classifier'],\n",
    "                'Score':  [RFCCV]})\n",
    "\n",
    "models.sort_values(by='Score', ascending=False)"
   ]
  },
  {
   "cell_type": "code",
   "execution_count": 23,
   "id": "ee6b614c",
   "metadata": {},
   "outputs": [
    {
     "data": {
      "image/png": "[encoded data removed]",
      "text/plain": [
       "<Figure size 432x432 with 1 Axes>"
      ]
     },
     "metadata": {
      "needs_background": "light"
     },
     "output_type": "display_data"
    }
   ],
   "source": [
    "from sklearn import metrics\n",
    "fig, ax = plt.subplots(figsize = (6,6))\n",
    "probs = rfc.predict_proba(X_test)\n",
    "preds = probs[:,1]\n",
    "fprrfc, tprrfc, thresholdrfc = metrics.roc_curve(y_test, preds)\n",
    "roc_aucrfc = metrics.auc(fprrfc, tprrfc)\n",
    "\n",
    "ax.plot(fprrfc, tprrfc, 'b', label = 'AUC = %0.2f' % roc_aucrfc)\n",
    "ax.plot([0, 1], [0, 1],'r--')\n",
    "ax.set_title('Receiver Operating Characteristic Random Forest ',fontsize=20)\n",
    "ax.set_ylabel('True Positive Rate',fontsize=20)\n",
    "ax.set_xlabel('False Positive Rate',fontsize=15)\n",
    "ax.legend(loc = 'lower right', prop={'size': 16})\n",
    "\n",
    "plt.subplots_adjust(wspace=1)"
   ]
  },
  {
   "cell_type": "code",
   "execution_count": 24,
   "id": "e93de600",
   "metadata": {},
   "outputs": [
    {
     "name": "stdout",
     "output_type": "stream",
     "text": [
      "Cross Validation mean:  0.9413963828378422\n"
     ]
    }
   ],
   "source": [
    "print('Cross Validation mean: ', (cross_val_score(rfc, X_train, y_train, cv=k_fold, n_jobs=2, scoring = 'accuracy').mean()))"
   ]
  },
  {
   "cell_type": "code",
   "execution_count": 25,
   "id": "ff2709e9",
   "metadata": {},
   "outputs": [
    {
     "name": "stdout",
     "output_type": "stream",
     "text": [
      "Cross Validation values:  [0.94584349 0.93149201 0.94584349 0.94476036 0.93528297 0.94232331\n",
      " 0.94339112 0.94582882 0.93580715 0.94339112]\n"
     ]
    }
   ],
   "source": [
    "print('Cross Validation values: ', cross_val_score(rfc, X_train, y_train, cv=k_fold, n_jobs=2, scoring = 'accuracy'))"
   ]
  },
  {
   "cell_type": "code",
   "execution_count": 26,
   "id": "124687c7",
   "metadata": {},
   "outputs": [
    {
     "name": "stdout",
     "output_type": "stream",
     "text": [
      "RFC Confusion Matrix\n",
      " [[6750  354]\n",
      " [ 177 1621]]\n"
     ]
    }
   ],
   "source": [
    "print('RFC Confusion Matrix\\n', confusion_matrix(y_test, rfcpred))"
   ]
  },
  {
   "cell_type": "code",
   "execution_count": 27,
   "id": "a7da3f24",
   "metadata": {},
   "outputs": [
    {
     "name": "stdout",
     "output_type": "stream",
     "text": [
      "RFC Reports\n",
      "               precision    recall  f1-score   support\n",
      "\n",
      "           0       0.97      0.95      0.96      7104\n",
      "           1       0.82      0.90      0.86      1798\n",
      "\n",
      "    accuracy                           0.94      8902\n",
      "   macro avg       0.90      0.93      0.91      8902\n",
      "weighted avg       0.94      0.94      0.94      8902\n",
      "\n"
     ]
    }
   ],
   "source": [
    "print('RFC Reports\\n',classification_report(y_test, rfcpred))"
   ]
  },
  {
   "cell_type": "code",
   "execution_count": 40,
   "id": "03eeaa3d",
   "metadata": {},
   "outputs": [
    {
     "name": "stdout",
     "output_type": "stream",
     "text": [
      "RFC Confusion Matrix\n",
      " [[6750  354]\n",
      " [ 177 1621]]\n",
      "6750\n"
     ]
    }
   ],
   "source": [
    "print('RFC Confusion Matrix\\n', confusion_matrix(y_test, rfcpred))\n",
    "var = confusion_matrix(y_test,rfcpred)"
   ]
  },
  {
   "cell_type": "code",
   "execution_count": 46,
   "id": "8438dc39",
   "metadata": {},
   "outputs": [
    {
     "name": "stdout",
     "output_type": "stream",
     "text": [
      "Specificity/ Recall 0 :  0.97\n"
     ]
    }
   ],
   "source": [
    "r0 = round(var[0][0] /(var[0][0] + var[1][0]),2)\n",
    "print('Specificity/ Recall 0 : ', r0)"
   ]
  },
  {
   "cell_type": "code",
   "execution_count": 45,
   "id": "8fb43799",
   "metadata": {},
   "outputs": [
    {
     "name": "stdout",
     "output_type": "stream",
     "text": [
      "Sensitivity/ Recall 1 :  0.82\n"
     ]
    }
   ],
   "source": [
    "r1 = round(var[1][1]/(var[1][1]+var[0][1]),2)\n",
    "print('Sensitivity/ Recall 1 : ',r1)"
   ]
  },
  {
   "cell_type": "code",
   "execution_count": null,
   "id": "c767e51d",
   "metadata": {},
   "outputs": [],
   "source": []
  },
  {
   "cell_type": "code",
   "execution_count": 48,
   "id": "d47eb316",
   "metadata": {},
   "outputs": [
    {
     "name": "stdout",
     "output_type": "stream",
     "text": [
      "Precision 0 :  0.95\n"
     ]
    }
   ],
   "source": [
    "p0 = round(var[0][0] /(var[0][0] + var[0][1]),2)\n",
    "print('Precision 0 : ',p0)"
   ]
  },
  {
   "cell_type": "code",
   "execution_count": 47,
   "id": "d4ed09ad",
   "metadata": {},
   "outputs": [
    {
     "name": "stdout",
     "output_type": "stream",
     "text": [
      "Precision 1 :  0.9\n"
     ]
    }
   ],
   "source": [
    "p1 = round(var[1][1] /(var[1][1] + var[1][0]),2)\n",
    "print('Precision 1 : ',p1)"
   ]
  },
  {
   "cell_type": "code",
   "execution_count": 55,
   "id": "23878862",
   "metadata": {},
   "outputs": [
    {
     "name": "stdout",
     "output_type": "stream",
     "text": [
      "F1-Score 0:  0.9598958333333334\n"
     ]
    }
   ],
   "source": [
    "f0 = 2*((r0*p0)/(r0+p0))\n",
    "print('F1-Score 0: ', f0)"
   ]
  },
  {
   "cell_type": "code",
   "execution_count": 57,
   "id": "a22c9058",
   "metadata": {},
   "outputs": [
    {
     "name": "stdout",
     "output_type": "stream",
     "text": [
      "F1-Score 1:  0.858139534883721\n"
     ]
    }
   ],
   "source": [
    "f1 = 2*((r1*p1)/(r1+p1))\n",
    "print('F1-Score 1: ', f1)"
   ]
  },
  {
   "cell_type": "code",
   "execution_count": 51,
   "id": "77d02588",
   "metadata": {},
   "outputs": [
    {
     "name": "stdout",
     "output_type": "stream",
     "text": [
      "AVT/Total Precision 0.92\n"
     ]
    }
   ],
   "source": [
    "AVG_precision =  (p0+p1)/2\n",
    "print('AVT/Total Precision', round(AVG_precision,2))"
   ]
  },
  {
   "cell_type": "code",
   "execution_count": 52,
   "id": "10db3168",
   "metadata": {},
   "outputs": [
    {
     "name": "stdout",
     "output_type": "stream",
     "text": [
      "AVT/Total Recall 0.9\n"
     ]
    }
   ],
   "source": [
    "AVG_Recall =  (r0+r1)/2\n",
    "print('AVT/Total Recall', round(AVG_Recall,2))"
   ]
  },
  {
   "cell_type": "code",
   "execution_count": 58,
   "id": "2dd426e7",
   "metadata": {},
   "outputs": [
    {
     "name": "stdout",
     "output_type": "stream",
     "text": [
      "AVT/Total F1-Score 0.91\n"
     ]
    }
   ],
   "source": [
    "AVG_f1 =  (f0+f1)/2\n",
    "print('AVT/Total F1-Score', round(AVG_f1,2))"
   ]
  },
  {
   "cell_type": "code",
   "execution_count": null,
   "id": "30276811",
   "metadata": {},
   "outputs": [],
   "source": []
  },
  {
   "cell_type": "code",
   "execution_count": null,
   "id": "a28919cd",
   "metadata": {},
   "outputs": [],
   "source": []
  }
 ],
 "metadata": {
  "kernelspec": {
   "display_name": "Python 3 (ipykernel)",
   "language": "python",
   "name": "python3"
  },
  "language_info": {
   "codemirror_mode": {
    "name": "ipython",
    "version": 3
   },
   "file_extension": ".py",
   "mimetype": "text/x-python",
   "name": "python",
   "nbconvert_exporter": "python",
   "pygments_lexer": "ipython3",
   "version": "3.8.10"
  }
 },
 "nbformat": 4,
 "nbformat_minor": 5
}
